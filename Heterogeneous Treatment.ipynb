{
 "cells": [
  {
   "cell_type": "code",
   "execution_count": 1,
   "id": "7435f90b-dadc-455e-9e4a-23bcc3505ebd",
   "metadata": {},
   "outputs": [],
   "source": [
    "import pandas as pd\n",
    "import numpy as np\n",
    "from matplotlib import pyplot as plt\n",
    "\n",
    "import seaborn as sns\n",
    "import statsmodels.formula.api as smf\n",
    "import statsmodels.api as sm\n",
    "\n",
    "from sklearn.ensemble import GradientBoostingRegressor\n",
    "from sklearn.model_selection import train_test_split"
   ]
  },
  {
   "cell_type": "code",
   "execution_count": 24,
   "id": "df460035-0ab7-41e4-a766-33840e08a6fa",
   "metadata": {},
   "outputs": [
    {
     "name": "stdout",
     "output_type": "stream",
     "text": [
      "\n",
      "\n",
      "Rather than raw units, we want to focus on sensitivity and persoanlization? In this example, we walk through a case study\n",
      "of how to change the ice cream prices to see effect on sales\n",
      "\n",
      "\n"
     ]
    }
   ],
   "source": [
    "print('''\n",
    "\n",
    "Rather than raw units, we want to focus on sensitivity and persoanlization? In this example, we walk through a case study\n",
    "of how to change the ice cream prices to see effect on sales\n",
    "\n",
    "''')"
   ]
  },
  {
   "cell_type": "code",
   "execution_count": 2,
   "id": "f33028e8-1b01-428b-86f1-f6d41c08ec5a",
   "metadata": {},
   "outputs": [],
   "source": [
    "url='https://raw.githubusercontent.com/matheusfacure/python-causality-handbook/refs/heads/master/causal-inference-for-the-brave-and-true/data/ice_cream_sales_rnd.csv'\n"
   ]
  },
  {
   "cell_type": "code",
   "execution_count": 3,
   "id": "c3d85502-5923-484b-83ed-fff665b59214",
   "metadata": {},
   "outputs": [
    {
     "name": "stdout",
     "output_type": "stream",
     "text": [
      "(5000, 5)\n"
     ]
    },
    {
     "data": {
      "text/html": [
       "<div>\n",
       "<style scoped>\n",
       "    .dataframe tbody tr th:only-of-type {\n",
       "        vertical-align: middle;\n",
       "    }\n",
       "\n",
       "    .dataframe tbody tr th {\n",
       "        vertical-align: top;\n",
       "    }\n",
       "\n",
       "    .dataframe thead th {\n",
       "        text-align: right;\n",
       "    }\n",
       "</style>\n",
       "<table border=\"1\" class=\"dataframe\">\n",
       "  <thead>\n",
       "    <tr style=\"text-align: right;\">\n",
       "      <th></th>\n",
       "      <th>temp</th>\n",
       "      <th>weekday</th>\n",
       "      <th>cost</th>\n",
       "      <th>price</th>\n",
       "      <th>sales</th>\n",
       "    </tr>\n",
       "  </thead>\n",
       "  <tbody>\n",
       "    <tr>\n",
       "      <th>0</th>\n",
       "      <td>25.8</td>\n",
       "      <td>1</td>\n",
       "      <td>0.3</td>\n",
       "      <td>7</td>\n",
       "      <td>230</td>\n",
       "    </tr>\n",
       "    <tr>\n",
       "      <th>1</th>\n",
       "      <td>22.7</td>\n",
       "      <td>3</td>\n",
       "      <td>0.5</td>\n",
       "      <td>4</td>\n",
       "      <td>190</td>\n",
       "    </tr>\n",
       "    <tr>\n",
       "      <th>2</th>\n",
       "      <td>33.7</td>\n",
       "      <td>7</td>\n",
       "      <td>1.0</td>\n",
       "      <td>5</td>\n",
       "      <td>237</td>\n",
       "    </tr>\n",
       "    <tr>\n",
       "      <th>3</th>\n",
       "      <td>23.0</td>\n",
       "      <td>4</td>\n",
       "      <td>0.5</td>\n",
       "      <td>5</td>\n",
       "      <td>193</td>\n",
       "    </tr>\n",
       "    <tr>\n",
       "      <th>4</th>\n",
       "      <td>24.4</td>\n",
       "      <td>1</td>\n",
       "      <td>1.0</td>\n",
       "      <td>3</td>\n",
       "      <td>252</td>\n",
       "    </tr>\n",
       "  </tbody>\n",
       "</table>\n",
       "</div>"
      ],
      "text/plain": [
       "   temp  weekday  cost  price  sales\n",
       "0  25.8        1   0.3      7    230\n",
       "1  22.7        3   0.5      4    190\n",
       "2  33.7        7   1.0      5    237\n",
       "3  23.0        4   0.5      5    193\n",
       "4  24.4        1   1.0      3    252"
      ]
     },
     "execution_count": 3,
     "metadata": {},
     "output_type": "execute_result"
    }
   ],
   "source": [
    "prices_rnd = pd.read_csv(url)\n",
    "print(prices_rnd.shape)\n",
    "prices_rnd.head()"
   ]
  },
  {
   "cell_type": "code",
   "execution_count": 4,
   "id": "db2892af-f379-4fc4-accd-4e6dac9fa8f0",
   "metadata": {},
   "outputs": [],
   "source": [
    "np.random.seed(123)\n",
    "train, test = train_test_split(prices_rnd)"
   ]
  },
  {
   "cell_type": "code",
   "execution_count": 5,
   "id": "ef9ef73e-8f29-408d-8fe4-263f87a555b6",
   "metadata": {},
   "outputs": [
    {
     "data": {
      "text/html": [
       "<table class=\"simpletable\">\n",
       "<tr>\n",
       "         <td></td>            <th>coef</th>     <th>std err</th>      <th>t</th>      <th>P>|t|</th>  <th>[0.025</th>    <th>0.975]</th>  \n",
       "</tr>\n",
       "<tr>\n",
       "  <th>Intercept</th>       <td>  186.7113</td> <td>    1.770</td> <td>  105.499</td> <td> 0.000</td> <td>  183.241</td> <td>  190.181</td>\n",
       "</tr>\n",
       "<tr>\n",
       "  <th>C(weekday)[T.2]</th> <td>  -25.0512</td> <td>    0.924</td> <td>  -27.114</td> <td> 0.000</td> <td>  -26.863</td> <td>  -23.240</td>\n",
       "</tr>\n",
       "<tr>\n",
       "  <th>C(weekday)[T.3]</th> <td>  -24.5834</td> <td>    0.901</td> <td>  -27.282</td> <td> 0.000</td> <td>  -26.350</td> <td>  -22.817</td>\n",
       "</tr>\n",
       "<tr>\n",
       "  <th>C(weekday)[T.4]</th> <td>  -24.3807</td> <td>    0.897</td> <td>  -27.195</td> <td> 0.000</td> <td>  -26.138</td> <td>  -22.623</td>\n",
       "</tr>\n",
       "<tr>\n",
       "  <th>C(weekday)[T.5]</th> <td>  -24.9036</td> <td>    0.894</td> <td>  -27.850</td> <td> 0.000</td> <td>  -26.657</td> <td>  -23.150</td>\n",
       "</tr>\n",
       "<tr>\n",
       "  <th>C(weekday)[T.6]</th> <td>  -24.0921</td> <td>    0.903</td> <td>  -26.693</td> <td> 0.000</td> <td>  -25.862</td> <td>  -22.323</td>\n",
       "</tr>\n",
       "<tr>\n",
       "  <th>C(weekday)[T.7]</th> <td>   -0.8635</td> <td>    0.888</td> <td>   -0.972</td> <td> 0.331</td> <td>   -2.605</td> <td>    0.878</td>\n",
       "</tr>\n",
       "<tr>\n",
       "  <th>price</th>           <td>   -2.7515</td> <td>    0.106</td> <td>  -25.970</td> <td> 0.000</td> <td>   -2.959</td> <td>   -2.544</td>\n",
       "</tr>\n",
       "<tr>\n",
       "  <th>temp</th>            <td>    1.9848</td> <td>    0.060</td> <td>   33.117</td> <td> 0.000</td> <td>    1.867</td> <td>    2.102</td>\n",
       "</tr>\n",
       "<tr>\n",
       "  <th>cost</th>            <td>    4.4718</td> <td>    0.528</td> <td>    8.462</td> <td> 0.000</td> <td>    3.436</td> <td>    5.508</td>\n",
       "</tr>\n",
       "</table>"
      ],
      "text/latex": [
       "\\begin{center}\n",
       "\\begin{tabular}{lcccccc}\n",
       "\\toprule\n",
       "                         & \\textbf{coef} & \\textbf{std err} & \\textbf{t} & \\textbf{P$> |$t$|$} & \\textbf{[0.025} & \\textbf{0.975]}  \\\\\n",
       "\\midrule\n",
       "\\textbf{Intercept}       &     186.7113  &        1.770     &   105.499  &         0.000        &      183.241    &      190.181     \\\\\n",
       "\\textbf{C(weekday)[T.2]} &     -25.0512  &        0.924     &   -27.114  &         0.000        &      -26.863    &      -23.240     \\\\\n",
       "\\textbf{C(weekday)[T.3]} &     -24.5834  &        0.901     &   -27.282  &         0.000        &      -26.350    &      -22.817     \\\\\n",
       "\\textbf{C(weekday)[T.4]} &     -24.3807  &        0.897     &   -27.195  &         0.000        &      -26.138    &      -22.623     \\\\\n",
       "\\textbf{C(weekday)[T.5]} &     -24.9036  &        0.894     &   -27.850  &         0.000        &      -26.657    &      -23.150     \\\\\n",
       "\\textbf{C(weekday)[T.6]} &     -24.0921  &        0.903     &   -26.693  &         0.000        &      -25.862    &      -22.323     \\\\\n",
       "\\textbf{C(weekday)[T.7]} &      -0.8635  &        0.888     &    -0.972  &         0.331        &       -2.605    &        0.878     \\\\\n",
       "\\textbf{price}           &      -2.7515  &        0.106     &   -25.970  &         0.000        &       -2.959    &       -2.544     \\\\\n",
       "\\textbf{temp}            &       1.9848  &        0.060     &    33.117  &         0.000        &        1.867    &        2.102     \\\\\n",
       "\\textbf{cost}            &       4.4718  &        0.528     &     8.462  &         0.000        &        3.436    &        5.508     \\\\\n",
       "\\bottomrule\n",
       "\\end{tabular}\n",
       "\\end{center}"
      ],
      "text/plain": [
       "<class 'statsmodels.iolib.table.SimpleTable'>"
      ]
     },
     "execution_count": 5,
     "metadata": {},
     "output_type": "execute_result"
    }
   ],
   "source": [
    "m1 = smf.ols(\"sales ~ price + temp+C(weekday)+cost\", data=train).fit()\n",
    "m1.summary().tables[1]"
   ]
  },
  {
   "cell_type": "code",
   "execution_count": 6,
   "id": "37cd67b6-8a91-4023-9b4a-7290c3ae2dfb",
   "metadata": {},
   "outputs": [
    {
     "data": {
      "text/html": [
       "<table class=\"simpletable\">\n",
       "<tr>\n",
       "         <td></td>            <th>coef</th>     <th>std err</th>      <th>t</th>      <th>P>|t|</th>  <th>[0.025</th>    <th>0.975]</th>  \n",
       "</tr>\n",
       "<tr>\n",
       "  <th>Intercept</th>       <td>  192.4767</td> <td>    4.371</td> <td>   44.037</td> <td> 0.000</td> <td>  183.907</td> <td>  201.046</td>\n",
       "</tr>\n",
       "<tr>\n",
       "  <th>C(weekday)[T.2]</th> <td>  -25.0805</td> <td>    0.924</td> <td>  -27.143</td> <td> 0.000</td> <td>  -26.892</td> <td>  -23.269</td>\n",
       "</tr>\n",
       "<tr>\n",
       "  <th>C(weekday)[T.3]</th> <td>  -24.5871</td> <td>    0.901</td> <td>  -27.290</td> <td> 0.000</td> <td>  -26.354</td> <td>  -22.821</td>\n",
       "</tr>\n",
       "<tr>\n",
       "  <th>C(weekday)[T.4]</th> <td>  -24.4225</td> <td>    0.897</td> <td>  -27.231</td> <td> 0.000</td> <td>  -26.181</td> <td>  -22.664</td>\n",
       "</tr>\n",
       "<tr>\n",
       "  <th>C(weekday)[T.5]</th> <td>  -24.8953</td> <td>    0.894</td> <td>  -27.844</td> <td> 0.000</td> <td>  -26.648</td> <td>  -23.142</td>\n",
       "</tr>\n",
       "<tr>\n",
       "  <th>C(weekday)[T.6]</th> <td>  -24.1269</td> <td>    0.903</td> <td>  -26.726</td> <td> 0.000</td> <td>  -25.897</td> <td>  -22.357</td>\n",
       "</tr>\n",
       "<tr>\n",
       "  <th>C(weekday)[T.7]</th> <td>   -0.8581</td> <td>    0.888</td> <td>   -0.966</td> <td> 0.334</td> <td>   -2.599</td> <td>    0.883</td>\n",
       "</tr>\n",
       "<tr>\n",
       "  <th>price</th>           <td>   -3.6299</td> <td>    0.618</td> <td>   -5.873</td> <td> 0.000</td> <td>   -4.842</td> <td>   -2.418</td>\n",
       "</tr>\n",
       "<tr>\n",
       "  <th>temp</th>            <td>    1.7459</td> <td>    0.176</td> <td>    9.912</td> <td> 0.000</td> <td>    1.401</td> <td>    2.091</td>\n",
       "</tr>\n",
       "<tr>\n",
       "  <th>price:temp</th>      <td>    0.0366</td> <td>    0.025</td> <td>    1.443</td> <td> 0.149</td> <td>   -0.013</td> <td>    0.086</td>\n",
       "</tr>\n",
       "<tr>\n",
       "  <th>cost</th>            <td>    4.4558</td> <td>    0.529</td> <td>    8.431</td> <td> 0.000</td> <td>    3.420</td> <td>    5.492</td>\n",
       "</tr>\n",
       "</table>"
      ],
      "text/latex": [
       "\\begin{center}\n",
       "\\begin{tabular}{lcccccc}\n",
       "\\toprule\n",
       "                         & \\textbf{coef} & \\textbf{std err} & \\textbf{t} & \\textbf{P$> |$t$|$} & \\textbf{[0.025} & \\textbf{0.975]}  \\\\\n",
       "\\midrule\n",
       "\\textbf{Intercept}       &     192.4767  &        4.371     &    44.037  &         0.000        &      183.907    &      201.046     \\\\\n",
       "\\textbf{C(weekday)[T.2]} &     -25.0805  &        0.924     &   -27.143  &         0.000        &      -26.892    &      -23.269     \\\\\n",
       "\\textbf{C(weekday)[T.3]} &     -24.5871  &        0.901     &   -27.290  &         0.000        &      -26.354    &      -22.821     \\\\\n",
       "\\textbf{C(weekday)[T.4]} &     -24.4225  &        0.897     &   -27.231  &         0.000        &      -26.181    &      -22.664     \\\\\n",
       "\\textbf{C(weekday)[T.5]} &     -24.8953  &        0.894     &   -27.844  &         0.000        &      -26.648    &      -23.142     \\\\\n",
       "\\textbf{C(weekday)[T.6]} &     -24.1269  &        0.903     &   -26.726  &         0.000        &      -25.897    &      -22.357     \\\\\n",
       "\\textbf{C(weekday)[T.7]} &      -0.8581  &        0.888     &    -0.966  &         0.334        &       -2.599    &        0.883     \\\\\n",
       "\\textbf{price}           &      -3.6299  &        0.618     &    -5.873  &         0.000        &       -4.842    &       -2.418     \\\\\n",
       "\\textbf{temp}            &       1.7459  &        0.176     &     9.912  &         0.000        &        1.401    &        2.091     \\\\\n",
       "\\textbf{price:temp}      &       0.0366  &        0.025     &     1.443  &         0.149        &       -0.013    &        0.086     \\\\\n",
       "\\textbf{cost}            &       4.4558  &        0.529     &     8.431  &         0.000        &        3.420    &        5.492     \\\\\n",
       "\\bottomrule\n",
       "\\end{tabular}\n",
       "\\end{center}"
      ],
      "text/plain": [
       "<class 'statsmodels.iolib.table.SimpleTable'>"
      ]
     },
     "execution_count": 6,
     "metadata": {},
     "output_type": "execute_result"
    }
   ],
   "source": [
    "m2 = smf.ols(\"sales ~ price*temp + C(weekday) + cost\", data=train).fit()\n",
    "m2.summary().tables[1]"
   ]
  },
  {
   "cell_type": "code",
   "execution_count": 9,
   "id": "66d66991-b3e3-40d3-9c90-8d177f756166",
   "metadata": {},
   "outputs": [
    {
     "name": "stdout",
     "output_type": "stream",
     "text": [
      "\n",
      "Notice that \n",
      " is positive 0,03 and the baseline sensitivity \n",
      " (the sensitivity at \n",
      ") is -3.6. This means that, on average, as we increase price, sales go down, which makes sense. It also means that for each additional degree in temperature, people become less sensitive to price increases on ice cream (although not by much). For example, at \n",
      ", for each additional BRL we charge, our sales go down by 2.8 units \n",
      ". But at \n",
      ", for each additional BRL we charge, they go down only by 2.5 units \n",
      ". This is also sort of intuitive. As the days get hotter and hotter, people are willing to pay more for ice cream.\n",
      "\n",
      "\n"
     ]
    }
   ],
   "source": [
    "print('''\n",
    "Notice that \n",
    " is positive 0,03 and the baseline sensitivity \n",
    " (the sensitivity at \n",
    ") is -3.6. This means that, on average, as we increase price, sales go down, which makes sense. It also means that for each additional degree in temperature, people become less sensitive to price increases on ice cream (although not by much). For example, at \n",
    ", for each additional BRL we charge, our sales go down by 2.8 units \n",
    ". But at \n",
    ", for each additional BRL we charge, they go down only by 2.5 units \n",
    ". This is also sort of intuitive. As the days get hotter and hotter, people are willing to pay more for ice cream.\n",
    "\n",
    "''')"
   ]
  },
  {
   "cell_type": "code",
   "execution_count": 11,
   "id": "d44ce707-d005-4a01-bb36-3a87fc1de549",
   "metadata": {},
   "outputs": [
    {
     "data": {
      "text/html": [
       "<table class=\"simpletable\">\n",
       "<tr>\n",
       "            <td></td>               <th>coef</th>     <th>std err</th>      <th>t</th>      <th>P>|t|</th>  <th>[0.025</th>    <th>0.975]</th>  \n",
       "</tr>\n",
       "<tr>\n",
       "  <th>Intercept</th>             <td>  245.5934</td> <td>    3.426</td> <td>   71.684</td> <td> 0.000</td> <td>  238.876</td> <td>  252.310</td>\n",
       "</tr>\n",
       "<tr>\n",
       "  <th>C(weekday)[T.2]</th>       <td>  -90.1681</td> <td>    1.969</td> <td>  -45.804</td> <td> 0.000</td> <td>  -94.028</td> <td>  -86.309</td>\n",
       "</tr>\n",
       "<tr>\n",
       "  <th>C(weekday)[T.3]</th>       <td>  -89.9918</td> <td>    1.923</td> <td>  -46.788</td> <td> 0.000</td> <td>  -93.763</td> <td>  -86.221</td>\n",
       "</tr>\n",
       "<tr>\n",
       "  <th>C(weekday)[T.4]</th>       <td>  -92.8179</td> <td>    1.968</td> <td>  -47.164</td> <td> 0.000</td> <td>  -96.676</td> <td>  -88.959</td>\n",
       "</tr>\n",
       "<tr>\n",
       "  <th>C(weekday)[T.5]</th>       <td>  -89.8630</td> <td>    1.920</td> <td>  -46.799</td> <td> 0.000</td> <td>  -93.628</td> <td>  -86.098</td>\n",
       "</tr>\n",
       "<tr>\n",
       "  <th>C(weekday)[T.6]</th>       <td>  -94.3701</td> <td>    1.921</td> <td>  -49.125</td> <td> 0.000</td> <td>  -98.136</td> <td>  -90.604</td>\n",
       "</tr>\n",
       "<tr>\n",
       "  <th>C(weekday)[T.7]</th>       <td>   -0.6167</td> <td>    1.913</td> <td>   -0.322</td> <td> 0.747</td> <td>   -4.368</td> <td>    3.134</td>\n",
       "</tr>\n",
       "<tr>\n",
       "  <th>price</th>                 <td>  -11.2623</td> <td>    0.489</td> <td>  -23.036</td> <td> 0.000</td> <td>  -12.221</td> <td>  -10.304</td>\n",
       "</tr>\n",
       "<tr>\n",
       "  <th>price:C(weekday)[T.2]</th> <td>    9.8965</td> <td>    0.286</td> <td>   34.623</td> <td> 0.000</td> <td>    9.336</td> <td>   10.457</td>\n",
       "</tr>\n",
       "<tr>\n",
       "  <th>price:C(weekday)[T.3]</th> <td>    9.8761</td> <td>    0.276</td> <td>   35.821</td> <td> 0.000</td> <td>    9.336</td> <td>   10.417</td>\n",
       "</tr>\n",
       "<tr>\n",
       "  <th>price:C(weekday)[T.4]</th> <td>   10.2849</td> <td>    0.281</td> <td>   36.617</td> <td> 0.000</td> <td>    9.734</td> <td>   10.836</td>\n",
       "</tr>\n",
       "<tr>\n",
       "  <th>price:C(weekday)[T.5]</th> <td>    9.8012</td> <td>    0.275</td> <td>   35.643</td> <td> 0.000</td> <td>    9.262</td> <td>   10.340</td>\n",
       "</tr>\n",
       "<tr>\n",
       "  <th>price:C(weekday)[T.6]</th> <td>   10.5958</td> <td>    0.274</td> <td>   38.612</td> <td> 0.000</td> <td>   10.058</td> <td>   11.134</td>\n",
       "</tr>\n",
       "<tr>\n",
       "  <th>price:C(weekday)[T.7]</th> <td>   -0.0950</td> <td>    0.273</td> <td>   -0.348</td> <td> 0.728</td> <td>   -0.630</td> <td>    0.440</td>\n",
       "</tr>\n",
       "<tr>\n",
       "  <th>cost</th>                  <td>    2.2755</td> <td>    1.129</td> <td>    2.016</td> <td> 0.044</td> <td>    0.063</td> <td>    4.488</td>\n",
       "</tr>\n",
       "<tr>\n",
       "  <th>price:cost</th>            <td>    0.2722</td> <td>    0.162</td> <td>    1.677</td> <td> 0.094</td> <td>   -0.046</td> <td>    0.590</td>\n",
       "</tr>\n",
       "<tr>\n",
       "  <th>temp</th>                  <td>    1.5778</td> <td>    0.123</td> <td>   12.790</td> <td> 0.000</td> <td>    1.336</td> <td>    1.820</td>\n",
       "</tr>\n",
       "<tr>\n",
       "  <th>price:temp</th>            <td>    0.0495</td> <td>    0.018</td> <td>    2.788</td> <td> 0.005</td> <td>    0.015</td> <td>    0.084</td>\n",
       "</tr>\n",
       "</table>"
      ],
      "text/latex": [
       "\\begin{center}\n",
       "\\begin{tabular}{lcccccc}\n",
       "\\toprule\n",
       "                               & \\textbf{coef} & \\textbf{std err} & \\textbf{t} & \\textbf{P$> |$t$|$} & \\textbf{[0.025} & \\textbf{0.975]}  \\\\\n",
       "\\midrule\n",
       "\\textbf{Intercept}             &     245.5934  &        3.426     &    71.684  &         0.000        &      238.876    &      252.310     \\\\\n",
       "\\textbf{C(weekday)[T.2]}       &     -90.1681  &        1.969     &   -45.804  &         0.000        &      -94.028    &      -86.309     \\\\\n",
       "\\textbf{C(weekday)[T.3]}       &     -89.9918  &        1.923     &   -46.788  &         0.000        &      -93.763    &      -86.221     \\\\\n",
       "\\textbf{C(weekday)[T.4]}       &     -92.8179  &        1.968     &   -47.164  &         0.000        &      -96.676    &      -88.959     \\\\\n",
       "\\textbf{C(weekday)[T.5]}       &     -89.8630  &        1.920     &   -46.799  &         0.000        &      -93.628    &      -86.098     \\\\\n",
       "\\textbf{C(weekday)[T.6]}       &     -94.3701  &        1.921     &   -49.125  &         0.000        &      -98.136    &      -90.604     \\\\\n",
       "\\textbf{C(weekday)[T.7]}       &      -0.6167  &        1.913     &    -0.322  &         0.747        &       -4.368    &        3.134     \\\\\n",
       "\\textbf{price}                 &     -11.2623  &        0.489     &   -23.036  &         0.000        &      -12.221    &      -10.304     \\\\\n",
       "\\textbf{price:C(weekday)[T.2]} &       9.8965  &        0.286     &    34.623  &         0.000        &        9.336    &       10.457     \\\\\n",
       "\\textbf{price:C(weekday)[T.3]} &       9.8761  &        0.276     &    35.821  &         0.000        &        9.336    &       10.417     \\\\\n",
       "\\textbf{price:C(weekday)[T.4]} &      10.2849  &        0.281     &    36.617  &         0.000        &        9.734    &       10.836     \\\\\n",
       "\\textbf{price:C(weekday)[T.5]} &       9.8012  &        0.275     &    35.643  &         0.000        &        9.262    &       10.340     \\\\\n",
       "\\textbf{price:C(weekday)[T.6]} &      10.5958  &        0.274     &    38.612  &         0.000        &       10.058    &       11.134     \\\\\n",
       "\\textbf{price:C(weekday)[T.7]} &      -0.0950  &        0.273     &    -0.348  &         0.728        &       -0.630    &        0.440     \\\\\n",
       "\\textbf{cost}                  &       2.2755  &        1.129     &     2.016  &         0.044        &        0.063    &        4.488     \\\\\n",
       "\\textbf{price:cost}            &       0.2722  &        0.162     &     1.677  &         0.094        &       -0.046    &        0.590     \\\\\n",
       "\\textbf{temp}                  &       1.5778  &        0.123     &    12.790  &         0.000        &        1.336    &        1.820     \\\\\n",
       "\\textbf{price:temp}            &       0.0495  &        0.018     &     2.788  &         0.005        &        0.015    &        0.084     \\\\\n",
       "\\bottomrule\n",
       "\\end{tabular}\n",
       "\\end{center}"
      ],
      "text/plain": [
       "<class 'statsmodels.iolib.table.SimpleTable'>"
      ]
     },
     "execution_count": 11,
     "metadata": {},
     "output_type": "execute_result"
    }
   ],
   "source": [
    "m3 = smf.ols(\"sales ~ price*cost + price*C(weekday) + price*temp\", data=train).fit()\n",
    "m3.summary().tables[1]"
   ]
  },
  {
   "cell_type": "code",
   "execution_count": 12,
   "id": "4b5ea32f-a04e-4c59-839b-30d7fe8ded5b",
   "metadata": {},
   "outputs": [
    {
     "data": {
      "text/html": [
       "<div>\n",
       "<style scoped>\n",
       "    .dataframe tbody tr th:only-of-type {\n",
       "        vertical-align: middle;\n",
       "    }\n",
       "\n",
       "    .dataframe tbody tr th {\n",
       "        vertical-align: top;\n",
       "    }\n",
       "\n",
       "    .dataframe thead th {\n",
       "        text-align: right;\n",
       "    }\n",
       "</style>\n",
       "<table border=\"1\" class=\"dataframe\">\n",
       "  <thead>\n",
       "    <tr style=\"text-align: right;\">\n",
       "      <th></th>\n",
       "      <th>temp</th>\n",
       "      <th>weekday</th>\n",
       "      <th>cost</th>\n",
       "      <th>price</th>\n",
       "      <th>sales</th>\n",
       "      <th>pred_sens</th>\n",
       "    </tr>\n",
       "  </thead>\n",
       "  <tbody>\n",
       "    <tr>\n",
       "      <th>2648</th>\n",
       "      <td>18.6</td>\n",
       "      <td>7</td>\n",
       "      <td>0.5</td>\n",
       "      <td>10</td>\n",
       "      <td>185</td>\n",
       "      <td>-2.751463</td>\n",
       "    </tr>\n",
       "    <tr>\n",
       "      <th>2456</th>\n",
       "      <td>26.0</td>\n",
       "      <td>3</td>\n",
       "      <td>0.5</td>\n",
       "      <td>10</td>\n",
       "      <td>200</td>\n",
       "      <td>-2.751463</td>\n",
       "    </tr>\n",
       "    <tr>\n",
       "      <th>4557</th>\n",
       "      <td>23.7</td>\n",
       "      <td>3</td>\n",
       "      <td>0.3</td>\n",
       "      <td>8</td>\n",
       "      <td>192</td>\n",
       "      <td>-2.751463</td>\n",
       "    </tr>\n",
       "    <tr>\n",
       "      <th>4884</th>\n",
       "      <td>28.9</td>\n",
       "      <td>4</td>\n",
       "      <td>1.5</td>\n",
       "      <td>6</td>\n",
       "      <td>213</td>\n",
       "      <td>-2.751463</td>\n",
       "    </tr>\n",
       "    <tr>\n",
       "      <th>92</th>\n",
       "      <td>23.7</td>\n",
       "      <td>1</td>\n",
       "      <td>0.5</td>\n",
       "      <td>8</td>\n",
       "      <td>207</td>\n",
       "      <td>-2.751463</td>\n",
       "    </tr>\n",
       "  </tbody>\n",
       "</table>\n",
       "</div>"
      ],
      "text/plain": [
       "      temp  weekday  cost  price  sales  pred_sens\n",
       "2648  18.6        7   0.5     10    185  -2.751463\n",
       "2456  26.0        3   0.5     10    200  -2.751463\n",
       "4557  23.7        3   0.3      8    192  -2.751463\n",
       "4884  28.9        4   1.5      6    213  -2.751463\n",
       "92    23.7        1   0.5      8    207  -2.751463"
      ]
     },
     "execution_count": 12,
     "metadata": {},
     "output_type": "execute_result"
    }
   ],
   "source": [
    "def pred_sensitivity(m, df, t=\"price\"):\n",
    "    return df.assign(**{\n",
    "        \"pred_sens\": m.predict(df.assign(**{t:df[t]+1})) - m.predict(df)\n",
    "    })\n",
    "\n",
    "pred_sensitivity(m1, test).head()"
   ]
  },
  {
   "cell_type": "code",
   "execution_count": 13,
   "id": "ad22e829-24c8-40b8-97fc-560666227d8d",
   "metadata": {},
   "outputs": [
    {
     "data": {
      "text/html": [
       "<div>\n",
       "<style scoped>\n",
       "    .dataframe tbody tr th:only-of-type {\n",
       "        vertical-align: middle;\n",
       "    }\n",
       "\n",
       "    .dataframe tbody tr th {\n",
       "        vertical-align: top;\n",
       "    }\n",
       "\n",
       "    .dataframe thead th {\n",
       "        text-align: right;\n",
       "    }\n",
       "</style>\n",
       "<table border=\"1\" class=\"dataframe\">\n",
       "  <thead>\n",
       "    <tr style=\"text-align: right;\">\n",
       "      <th></th>\n",
       "      <th>temp</th>\n",
       "      <th>weekday</th>\n",
       "      <th>cost</th>\n",
       "      <th>price</th>\n",
       "      <th>sales</th>\n",
       "      <th>pred_sens</th>\n",
       "    </tr>\n",
       "  </thead>\n",
       "  <tbody>\n",
       "    <tr>\n",
       "      <th>4764</th>\n",
       "      <td>31.1</td>\n",
       "      <td>6</td>\n",
       "      <td>1.0</td>\n",
       "      <td>3</td>\n",
       "      <td>212</td>\n",
       "      <td>1.144309</td>\n",
       "    </tr>\n",
       "    <tr>\n",
       "      <th>4324</th>\n",
       "      <td>24.8</td>\n",
       "      <td>7</td>\n",
       "      <td>0.5</td>\n",
       "      <td>10</td>\n",
       "      <td>182</td>\n",
       "      <td>-9.994303</td>\n",
       "    </tr>\n",
       "    <tr>\n",
       "      <th>4536</th>\n",
       "      <td>25.0</td>\n",
       "      <td>2</td>\n",
       "      <td>1.5</td>\n",
       "      <td>6</td>\n",
       "      <td>205</td>\n",
       "      <td>0.279273</td>\n",
       "    </tr>\n",
       "    <tr>\n",
       "      <th>3466</th>\n",
       "      <td>26.0</td>\n",
       "      <td>3</td>\n",
       "      <td>1.5</td>\n",
       "      <td>3</td>\n",
       "      <td>205</td>\n",
       "      <td>0.308320</td>\n",
       "    </tr>\n",
       "    <tr>\n",
       "      <th>115</th>\n",
       "      <td>19.3</td>\n",
       "      <td>3</td>\n",
       "      <td>0.3</td>\n",
       "      <td>9</td>\n",
       "      <td>177</td>\n",
       "      <td>-0.349745</td>\n",
       "    </tr>\n",
       "  </tbody>\n",
       "</table>\n",
       "</div>"
      ],
      "text/plain": [
       "      temp  weekday  cost  price  sales  pred_sens\n",
       "4764  31.1        6   1.0      3    212   1.144309\n",
       "4324  24.8        7   0.5     10    182  -9.994303\n",
       "4536  25.0        2   1.5      6    205   0.279273\n",
       "3466  26.0        3   1.5      3    205   0.308320\n",
       "115   19.3        3   0.3      9    177  -0.349745"
      ]
     },
     "execution_count": 13,
     "metadata": {},
     "output_type": "execute_result"
    }
   ],
   "source": [
    "pred_sens3 = pred_sensitivity(m3, test)\n",
    "\n",
    "np.random.seed(1)\n",
    "pred_sens3.sample(5)"
   ]
  },
  {
   "cell_type": "code",
   "execution_count": 14,
   "id": "277eec27-1f79-49d8-b5f9-ecc19e9c23fb",
   "metadata": {},
   "outputs": [
    {
     "name": "stdout",
     "output_type": "stream",
     "text": [
      "\n",
      "Notice how the predictions are numbers that go from something like -9 to something 1. Those are not predictions of the sales column, which is in the order of the hundreds. Rather, it’s a prediction of how much sales would change if we increased price by one unit. Right off of the bet, we can see some strange numbers. For example, take a look at day 4764. It’s predicting a positive sensitivity. In other words, we are predicting that sales will increase if we increase the price of ice cream. This doesn’t appeal to our economic sense. It’s probably the case that the model is doing some weird extrapolation on that prediction. Fortunately, you don’t have to worry too much about it. Remember that our ultimate goal is to segment the units by how sensitive they are to the treatment. It’s not to come up with the most accurate sensitivity prediction ever. For our main goal, it suffices if the sensitivity predictions orders the units according to how sensitive they are. In other words, even if positive sensitivity predictions like 1.1, or 0.5 don’t make much sense, all we need is that the ordering is correct, that is, we want the units with prediction 1.1 to be less impacted by price increase than units with predictions 0.5.\n",
      "\n"
     ]
    }
   ],
   "source": [
    "print('''\n",
    "Notice how the predictions are numbers that go from something like -9 to something 1. Those are not predictions of the sales column, which is in the order of the hundreds. Rather, it’s a prediction of how much sales would change if we increased price by one unit. Right off of the bet, we can see some strange numbers. For example, take a look at day 4764. It’s predicting a positive sensitivity. In other words, we are predicting that sales will increase if we increase the price of ice cream. This doesn’t appeal to our economic sense. It’s probably the case that the model is doing some weird extrapolation on that prediction. Fortunately, you don’t have to worry too much about it. Remember that our ultimate goal is to segment the units by how sensitive they are to the treatment. It’s not to come up with the most accurate sensitivity prediction ever. For our main goal, it suffices if the sensitivity predictions orders the units according to how sensitive they are. In other words, even if positive sensitivity predictions like 1.1, or 0.5 don’t make much sense, all we need is that the ordering is correct, that is, we want the units with prediction 1.1 to be less impacted by price increase than units with predictions 0.5.\n",
    "''')"
   ]
  },
  {
   "cell_type": "code",
   "execution_count": 15,
   "id": "4b49d5fe-a5a0-48a6-915f-2fc09810e94c",
   "metadata": {},
   "outputs": [
    {
     "data": {
      "text/plain": [
       "0.9124088322890127"
      ]
     },
     "execution_count": 15,
     "metadata": {},
     "output_type": "execute_result"
    }
   ],
   "source": [
    "X = [\"temp\", \"weekday\", \"cost\", \"price\"]\n",
    "y = \"sales\"\n",
    "ml = GradientBoostingRegressor()\n",
    "ml.fit(train[X], train[y])\n",
    "\n",
    "# make sure the model is not overfiting.\n",
    "ml.score(test[X], test[y])"
   ]
  },
  {
   "cell_type": "code",
   "execution_count": 16,
   "id": "e6f8d2c4-c83c-46c0-a470-a6b96444760f",
   "metadata": {},
   "outputs": [
    {
     "data": {
      "text/html": [
       "<div>\n",
       "<style scoped>\n",
       "    .dataframe tbody tr th:only-of-type {\n",
       "        vertical-align: middle;\n",
       "    }\n",
       "\n",
       "    .dataframe tbody tr th {\n",
       "        vertical-align: top;\n",
       "    }\n",
       "\n",
       "    .dataframe thead th {\n",
       "        text-align: right;\n",
       "    }\n",
       "</style>\n",
       "<table border=\"1\" class=\"dataframe\">\n",
       "  <thead>\n",
       "    <tr style=\"text-align: right;\">\n",
       "      <th></th>\n",
       "      <th>temp</th>\n",
       "      <th>weekday</th>\n",
       "      <th>cost</th>\n",
       "      <th>price</th>\n",
       "      <th>sales</th>\n",
       "      <th>pred_sens</th>\n",
       "      <th>sens_band</th>\n",
       "      <th>pred_sales</th>\n",
       "      <th>pred_band</th>\n",
       "    </tr>\n",
       "  </thead>\n",
       "  <tbody>\n",
       "    <tr>\n",
       "      <th>2648</th>\n",
       "      <td>18.6</td>\n",
       "      <td>7</td>\n",
       "      <td>0.5</td>\n",
       "      <td>10</td>\n",
       "      <td>185</td>\n",
       "      <td>-10.301045</td>\n",
       "      <td>(-10.597999999999999, -0.00555]</td>\n",
       "      <td>186.878081</td>\n",
       "      <td>(161.089, 198.735]</td>\n",
       "    </tr>\n",
       "    <tr>\n",
       "      <th>2456</th>\n",
       "      <td>26.0</td>\n",
       "      <td>3</td>\n",
       "      <td>0.5</td>\n",
       "      <td>10</td>\n",
       "      <td>200</td>\n",
       "      <td>0.036165</td>\n",
       "      <td>(-0.00555, 1.389]</td>\n",
       "      <td>203.188327</td>\n",
       "      <td>(198.735, 257.746]</td>\n",
       "    </tr>\n",
       "    <tr>\n",
       "      <th>4557</th>\n",
       "      <td>23.7</td>\n",
       "      <td>3</td>\n",
       "      <td>0.3</td>\n",
       "      <td>8</td>\n",
       "      <td>192</td>\n",
       "      <td>-0.132057</td>\n",
       "      <td>(-10.597999999999999, -0.00555]</td>\n",
       "      <td>188.800637</td>\n",
       "      <td>(161.089, 198.735]</td>\n",
       "    </tr>\n",
       "    <tr>\n",
       "      <th>4884</th>\n",
       "      <td>28.9</td>\n",
       "      <td>4</td>\n",
       "      <td>1.5</td>\n",
       "      <td>6</td>\n",
       "      <td>213</td>\n",
       "      <td>0.860663</td>\n",
       "      <td>(-0.00555, 1.389]</td>\n",
       "      <td>210.430813</td>\n",
       "      <td>(198.735, 257.746]</td>\n",
       "    </tr>\n",
       "    <tr>\n",
       "      <th>92</th>\n",
       "      <td>23.7</td>\n",
       "      <td>1</td>\n",
       "      <td>0.5</td>\n",
       "      <td>8</td>\n",
       "      <td>207</td>\n",
       "      <td>-9.953698</td>\n",
       "      <td>(-10.597999999999999, -0.00555]</td>\n",
       "      <td>209.044522</td>\n",
       "      <td>(198.735, 257.746]</td>\n",
       "    </tr>\n",
       "  </tbody>\n",
       "</table>\n",
       "</div>"
      ],
      "text/plain": [
       "      temp  weekday  cost  price  sales  pred_sens  \\\n",
       "2648  18.6        7   0.5     10    185 -10.301045   \n",
       "2456  26.0        3   0.5     10    200   0.036165   \n",
       "4557  23.7        3   0.3      8    192  -0.132057   \n",
       "4884  28.9        4   1.5      6    213   0.860663   \n",
       "92    23.7        1   0.5      8    207  -9.953698   \n",
       "\n",
       "                            sens_band  pred_sales           pred_band  \n",
       "2648  (-10.597999999999999, -0.00555]  186.878081  (161.089, 198.735]  \n",
       "2456                (-0.00555, 1.389]  203.188327  (198.735, 257.746]  \n",
       "4557  (-10.597999999999999, -0.00555]  188.800637  (161.089, 198.735]  \n",
       "4884                (-0.00555, 1.389]  210.430813  (198.735, 257.746]  \n",
       "92    (-10.597999999999999, -0.00555]  209.044522  (198.735, 257.746]  "
      ]
     },
     "execution_count": 16,
     "metadata": {},
     "output_type": "execute_result"
    }
   ],
   "source": [
    "bands_df = pred_sens3.assign(\n",
    "    sens_band = pd.qcut(pred_sens3[\"pred_sens\"], 2), # create two groups based on sensitivity predictions \n",
    "    pred_sales = ml.predict(pred_sens3[X]),\n",
    "    pred_band = pd.qcut(ml.predict(pred_sens3[X]), 2), # create two groups based on sales predictions\n",
    ")\n",
    "\n",
    "bands_df.head()"
   ]
  },
  {
   "cell_type": "code",
   "execution_count": 22,
   "id": "b8c126d3-5eea-4721-8971-798b00451629",
   "metadata": {},
   "outputs": [
    {
     "data": {
      "image/png": "[encoded data removed]",
      "text/plain": [
       "<Figure size 600x300 with 2 Axes>"
      ]
     },
     "metadata": {},
     "output_type": "display_data"
    }
   ],
   "source": [
    "g = sns.FacetGrid(bands_df, col=\"sens_band\")\n",
    "g.map_dataframe(sns.regplot, x=\"price\", y=\"sales\")\n",
    "g.set_titles(col_template=\"Sens. Band {col_name}\");"
   ]
  },
  {
   "cell_type": "code",
   "execution_count": 23,
   "id": "2a071f0e-27b7-4e68-a71d-18f5f9f44afe",
   "metadata": {},
   "outputs": [
    {
     "data": {
      "image/png": "[encoded data removed]",
      "text/plain": [
       "<Figure size 600x300 with 2 Axes>"
      ]
     },
     "metadata": {},
     "output_type": "display_data"
    }
   ],
   "source": [
    "g = sns.FacetGrid(bands_df, col=\"pred_band\")\n",
    "g.map_dataframe(sns.regplot, x=\"price\", y=\"sales\")\n",
    "g.set_titles(col_template=\"Pred. Band {col_name}\");"
   ]
  },
  {
   "cell_type": "code",
   "execution_count": null,
   "id": "136a7530-0f47-4c17-86c6-3479e1545fe4",
   "metadata": {},
   "outputs": [],
   "source": []
  }
 ],
 "metadata": {
  "kernelspec": {
   "display_name": "Python 3 (ipykernel)",
   "language": "python",
   "name": "python3"
  },
  "language_info": {
   "codemirror_mode": {
    "name": "ipython",
    "version": 3
   },
   "file_extension": ".py",
   "mimetype": "text/x-python",
   "name": "python",
   "nbconvert_exporter": "python",
   "pygments_lexer": "ipython3",
   "version": "3.11.7"
  }
 },
 "nbformat": 4,
 "nbformat_minor": 5
}
